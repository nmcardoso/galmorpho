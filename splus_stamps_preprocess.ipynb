{
  "nbformat": 4,
  "nbformat_minor": 0,
  "metadata": {
    "colab": {
      "name": "splus_stamps_preprocess.ipynb",
      "provenance": [],
      "collapsed_sections": [],
      "toc_visible": true,
      "mount_file_id": "1w16gjrmdGbiL0uVH594JYi75CHzkTMEt",
      "authorship_tag": "ABX9TyMgSfOu3Gxlt0AOhTKptCKc",
      "include_colab_link": true
    },
    "kernelspec": {
      "name": "python3",
      "display_name": "Python 3"
    }
  },
  "cells": [
    {
      "cell_type": "markdown",
      "metadata": {
        "id": "view-in-github",
        "colab_type": "text"
      },
      "source": [
        "<a href=\"https://colab.research.google.com/github/nmcardoso/galmorpho/blob/master/splus_stamps_preprocess.ipynb\" target=\"_parent\"><img src=\"https://colab.research.google.com/assets/colab-badge.svg\" alt=\"Open In Colab\"/></a>"
      ]
    },
    {
      "cell_type": "markdown",
      "metadata": {
        "id": "qi0zz5UVcPfv",
        "colab_type": "text"
      },
      "source": [
        "## Imports\n",
        "\n"
      ]
    },
    {
      "cell_type": "code",
      "metadata": {
        "id": "yn0iUVBCZuDz",
        "colab_type": "code",
        "colab": {}
      },
      "source": [
        "import matplotlib.pyplot as plt\n",
        "from astropy.visualization import astropy_mpl_style\n",
        "from astropy.io import fits\n",
        "from astropy.nddata.utils import Cutout2D\n",
        "from scipy import ndimage\n",
        "import numpy as np\n",
        "import glob\n",
        "import pandas as pd\n",
        "import os\n",
        "import shutil\n",
        "import tarfile\n",
        "from zipfile import ZipFile\n",
        "from multiprocessing import Pool, Lock\n",
        "from ipywidgets import FloatProgress\n",
        "from progressbar import progressbar\n",
        "plt.style.use(astropy_mpl_style)"
      ],
      "execution_count": 0,
      "outputs": []
    },
    {
      "cell_type": "markdown",
      "metadata": {
        "id": "E9JC2PhPcMfz",
        "colab_type": "text"
      },
      "source": [
        "## Globals"
      ]
    },
    {
      "cell_type": "code",
      "metadata": {
        "id": "TwX5RCChaFxs",
        "colab_type": "code",
        "colab": {}
      },
      "source": [
        "RAW_STAMPS_PATH = '/content/drive/My Drive/splus_data/stamps'\n",
        "DATAFRAME_PATH = '/content/drive/My Drive/splus_data/tables/group_2_zoo2.csv'"
      ],
      "execution_count": 0,
      "outputs": []
    },
    {
      "cell_type": "markdown",
      "metadata": {
        "id": "tUF4a51Gm4Ir",
        "colab_type": "text"
      },
      "source": [
        "## Preprocess Class"
      ]
    },
    {
      "cell_type": "code",
      "metadata": {
        "id": "knZqXE-1aRR2",
        "colab_type": "code",
        "colab": {}
      },
      "source": [
        "class Preprocess:\n",
        "  def __init__(self, files_folder, channels, labels, image_dim):\n",
        "    # NaN, n < 0, n < median -> 0\n",
        "    normalization_function = lambda e, median: e if not np.isnan(e) and e > median and e > 0.0 else 0.0\n",
        "    self.norm_vector = np.vectorize(normalization_function)\n",
        "    self.files_folder = files_folder\n",
        "    self.labels = labels\n",
        "    self.image_dim = image_dim\n",
        "    self.channels = channels\n",
        "  \n",
        "  def remove_sky(self, image_array):\n",
        "    median = np.median(image_array)\n",
        "    image = self.norm_vector(image_array, median)\n",
        "    return image\n",
        "\n",
        "  def rescale(self, image_array):\n",
        "    image = image_array.copy()\n",
        "    image /= np.amax(image)\n",
        "    return image\n",
        "\n",
        "  def standarize(self, image_array):\n",
        "    image = image_array.copy()\n",
        "    image -= np.mean(image)\n",
        "    image /= np.std(image)\n",
        "    return image\n",
        "\n",
        "  def cutout(self, position, size):\n",
        "    def cutout_func(image_array):\n",
        "      image = Cutout2D(image_array, position, size)\n",
        "      image = image.data\n",
        "      return image\n",
        "    return cutout_func\n",
        "\n",
        "  def zoom(self, factor):\n",
        "    def zoom_func(image_array):\n",
        "      image = ndimage.zoom(image_array, factor)\n",
        "      return image\n",
        "    return zoom_func\n",
        "\n",
        "  def dataset_mean(self):\n",
        "    median = {}\n",
        "    for channel in self.channels:\n",
        "      median[channel] = []\n",
        "      for row in progressbar(self.labels.iterrows(), max_value=self.labels.shape[0]):\n",
        "        image_path = os.path.join(self.files_folder, channel, f'{row[1].ID}_{channel}.fits')\n",
        "        image_array = fits.getdata(image_path, ext=0)\n",
        "        median[channel].append(np.median(image_array))\n",
        "    return median\n",
        "  \n",
        "  def exec_pipeline(self, functions, batch_size=None, remove=False):\n",
        "    for row in progressbar(self.labels.iterrows(), max_value=self.labels.shape[0]):\n",
        "      image_id = row[1].ID\n",
        "      image = np.empty((*self.image_dim, len(self.channels)))\n",
        "\n",
        "      for i, channel in enumerate(self.channels):\n",
        "        image_path = os.path.join(self.files_folder, channel, f'{image_id}_{channel}.fits')\n",
        "        image_array = fits.getdata(image_path, ext=0)\n",
        "        if remove:\n",
        "          os.remove(image_path) #remove .fits image\n",
        "        for f in functions:\n",
        "          image_array = f(image_array)\n",
        "        image[..., i] = image_array\n",
        "      \n",
        "      npy_path = os.path.join(output_path, f'{image_id}.npy')\n",
        "      np.save(npy_path, image)\n",
        "\n",
        "      with tarfile.open(os.path.join(output_path, 'dataset.tar'), 'a') as tar:\n",
        "        tar.add(npy_path, f'{image_id}.npy')\n",
        "\n",
        "      os.remove(npy_path) # remove .npy file"
      ],
      "execution_count": 0,
      "outputs": []
    },
    {
      "cell_type": "code",
      "metadata": {
        "id": "sa6Ib0f4D4iN",
        "colab_type": "code",
        "outputId": "71a2bff0-a8ba-49c7-cf7d-f1038d664ff4",
        "colab": {
          "base_uri": "https://localhost:8080/",
          "height": 90
        }
      },
      "source": [
        "np.reshape(['F378', 'F395', 'F410', 'F430', 'F515', 'F660', 'F861', 'G', 'I', 'R', 'U', 'Z'], (4,3))"
      ],
      "execution_count": 0,
      "outputs": [
        {
          "output_type": "execute_result",
          "data": {
            "text/plain": [
              "array([['F378', 'F395', 'F410'],\n",
              "       ['F430', 'F515', 'F660'],\n",
              "       ['F861', 'G', 'I'],\n",
              "       ['R', 'U', 'Z']], dtype='<U4')"
            ]
          },
          "metadata": {
            "tags": []
          },
          "execution_count": 3
        }
      ]
    },
    {
      "cell_type": "markdown",
      "metadata": {
        "id": "i5jkLUDvm-is",
        "colab_type": "text"
      },
      "source": [
        "## Get data from gdrive"
      ]
    },
    {
      "cell_type": "code",
      "metadata": {
        "id": "T7SOUilroTVu",
        "colab_type": "code",
        "outputId": "66bb5588-8cb9-4ba5-d857-6427240ba7bc",
        "colab": {
          "base_uri": "https://localhost:8080/",
          "height": 145
        }
      },
      "source": [
        "!ls \"{RAW_STAMPS_PATH}\""
      ],
      "execution_count": 0,
      "outputs": [
        {
          "output_type": "stream",
          "text": [
            "F378_stamps.tar.xz  group_2_zoo2.csv\n",
            "F395_stamps.tar.xz  G_stamps.tar.xz\n",
            "F410_stamps.tar.xz  I_stamps.tar.xz\n",
            "F430_stamps.tar.xz  R_stamps.tar.xz\n",
            "F515_stamps.tar.xz  SPLUS_SQGTool_DR1_mag-17_p_gal_sw_0.7-1.0_group_2.csv\n",
            "F660_stamps.tar.xz  U_stamps.tar.xz\n",
            "F861_stamps.tar.xz  Z_stamps.tar.xz\n"
          ],
          "name": "stdout"
        }
      ]
    },
    {
      "cell_type": "code",
      "metadata": {
        "id": "M1TBDMEMnDMk",
        "colab_type": "code",
        "colab": {}
      },
      "source": [
        "!tar -C /content -xvf \"$RAW_STAMPS_PATH/F378_stamps.tar.xz\"\n",
        "!tar -C /content -xvf \"$RAW_STAMPS_PATH/F395_stamps.tar.xz\"\n",
        "!tar -C /content -xvf \"$RAW_STAMPS_PATH/F410_stamps.tar.xz\"\n",
        "!tar -C /content -xvf \"$RAW_STAMPS_PATH/F430_stamps.tar.xz\"\n",
        "!tar -C /content -xvf \"$RAW_STAMPS_PATH/F515_stamps.tar.xz\"\n",
        "!tar -C /content -xvf \"$RAW_STAMPS_PATH/F660_stamps.tar.xz\"\n",
        "!tar -C /content -xvf \"$RAW_STAMPS_PATH/F861_stamps.tar.xz\"\n",
        "!tar -C /content -xvf \"$RAW_STAMPS_PATH/G_stamps.tar.xz\"\n",
        "!tar -C /content -xvf \"$RAW_STAMPS_PATH/I_stamps.tar.xz\"\n",
        "!tar -C /content -xvf \"$RAW_STAMPS_PATH/R_stamps.tar.xz\"\n",
        "!tar -C /content -xvf \"$RAW_STAMPS_PATH/U_stamps.tar.xz\"\n",
        "!tar -C /content -xvf \"$RAW_STAMPS_PATH/Z_stamps.tar.xz\""
      ],
      "execution_count": 0,
      "outputs": []
    },
    {
      "cell_type": "code",
      "metadata": {
        "id": "gyUZK_YLp5e4",
        "colab_type": "code",
        "colab": {}
      },
      "source": [
        "!mkdir /content/data"
      ],
      "execution_count": 0,
      "outputs": []
    },
    {
      "cell_type": "code",
      "metadata": {
        "id": "nTie72Pczpy7",
        "colab_type": "code",
        "colab": {}
      },
      "source": [
        "!mv F378/F378_stamps/ data/F378\n",
        "!mv F395/F395_stamps/ data/F395\n",
        "!mv F410/F410_stamps/ data/F410\n",
        "!mv F430/F430_stamps/ data/F430\n",
        "!mv F515/F515_stamps/ data/F515\n",
        "!mv F660/F660_stamps/ data/F660\n",
        "!mv F861/F861_stamps/ data/F861\n",
        "!mv G/G_stamps data/G\n",
        "!mv I_stamps/ data/I\n",
        "!mv R_stamps data/R\n",
        "!mv U/U_stamps/ data/U\n",
        "!mv Z/Z_stamps data/Z"
      ],
      "execution_count": 0,
      "outputs": []
    },
    {
      "cell_type": "markdown",
      "metadata": {
        "id": "Zi-ha5pQm7Nk",
        "colab_type": "text"
      },
      "source": [
        "## Start Job"
      ]
    },
    {
      "cell_type": "code",
      "metadata": {
        "id": "UQ1PLvtJ4f3M",
        "colab_type": "code",
        "colab": {}
      },
      "source": [
        "def create_sub_dataframe():\n",
        "  df = pd.read_csv(DATAFRAME_PATH)\n",
        "  df = df[['ID', 'simple_class']]\n",
        "  df = df.rename(columns={'simple_class': 'CLASS'})\n",
        "  df['CLASS'] = df['CLASS'].apply(lambda x: x[0])\n",
        "  df_E = df[df.CLASS == 'E']\n",
        "  df_E = df_E[3600:]\n",
        "  df_S = df[df.CLASS == 'S']\n",
        "  df = pd.concat([df_E, df_S])\n",
        "  df.to_csv('/content/dataset.csv', index=False)\n",
        "  return df"
      ],
      "execution_count": 0,
      "outputs": []
    },
    {
      "cell_type": "code",
      "metadata": {
        "id": "ntMM-e61lJEr",
        "colab_type": "code",
        "colab": {}
      },
      "source": [
        "def create_dataframe():\n",
        "  df = pd.read_csv(DATAFRAME_PATH)\n",
        "  df = df[['ID', 'simple_class']]\n",
        "  df = df.rename(columns={'simple_class': 'CLASS'})\n",
        "  df['CLASS'] = df['CLASS'].apply(lambda x: x[0])\n",
        "  df = df[df.CLASS != 'A']\n",
        "  df.to_csv('/content/dataset.csv', index=False)\n",
        "  return df"
      ],
      "execution_count": 0,
      "outputs": []
    },
    {
      "cell_type": "code",
      "metadata": {
        "id": "WLGZY9bClDIY",
        "colab_type": "code",
        "outputId": "ee29698d-863d-4ba6-eb4b-bb6a98c798fe",
        "colab": {
          "base_uri": "https://localhost:8080/",
          "height": 74
        }
      },
      "source": [
        "df = create_sub_dataframe()\n",
        "p = Preprocess('/content/data', ['F378', 'F395', 'F410', 'F430', 'F515', 'F660', 'F861', 'G', 'I', 'R', 'U', 'Z'], df, (128, 128))\n",
        "p.exec_pipeline([p.cutout((128, 128), 128), p.remove_sky, p.rescale], '/content', remove=False)"
      ],
      "execution_count": 0,
      "outputs": [
        {
          "output_type": "stream",
          "text": [
            " 40% (1839 of 4557) |########            | Elapsed Time: 0:13:20 ETA:   0:20:26/usr/local/lib/python3.6/dist-packages/ipykernel_launcher.py:18: RuntimeWarning: invalid value encountered in true_divide\n",
            "100% (4557 of 4557) |####################| Elapsed Time: 0:37:00 Time:  0:37:00\n"
          ],
          "name": "stderr"
        }
      ]
    },
    {
      "cell_type": "markdown",
      "metadata": {
        "id": "hL4PabcamV2w",
        "colab_type": "text"
      },
      "source": [
        "## Export to gdrive"
      ]
    },
    {
      "cell_type": "code",
      "metadata": {
        "id": "RWhYsjIZlPv5",
        "colab_type": "code",
        "colab": {}
      },
      "source": [
        "!xz -k -1zvc -T 0 dataset.tar > \"/content/drive/My Drive/datasets/stamps_scaled_12ch_subset_t.tar.xz\""
      ],
      "execution_count": 0,
      "outputs": []
    },
    {
      "cell_type": "code",
      "metadata": {
        "id": "TDstmkccYeGv",
        "colab_type": "code",
        "colab": {}
      },
      "source": [
        "!tar -Oxf dataset.tar.gz | xz -0z > \"/content/drive/My Drive/datasets/stamps_scaled_12ch_subset_t.tar.xz\""
      ],
      "execution_count": 0,
      "outputs": []
    },
    {
      "cell_type": "code",
      "metadata": {
        "id": "kQazn1BWFWb9",
        "colab_type": "code",
        "colab": {}
      },
      "source": [
        "!cp \"/content/dataset.csv\" \"/content/drive/My Drive/datasets/stamps_scaled_12ch_subset_128px.csv\"\n",
        "!cp \"/content/dataset.tar\" \"/content/drive/My Drive/datasets/stamps_scaled_12ch_subset_128px.tar\""
      ],
      "execution_count": 0,
      "outputs": []
    },
    {
      "cell_type": "markdown",
      "metadata": {
        "id": "SapUypX0rSuB",
        "colab_type": "text"
      },
      "source": [
        "## Tests"
      ]
    },
    {
      "cell_type": "code",
      "metadata": {
        "id": "h9gZ9MiOXuk3",
        "colab_type": "code",
        "outputId": "6a5b0819-d7fb-4adf-d318-63fa395f01f4",
        "colab": {
          "base_uri": "https://localhost:8080/",
          "height": 381
        }
      },
      "source": [
        "!tar -C /content -tvf \"$RAW_STAMPS_PATH/I_stamps.tar.xz\" | head -20"
      ],
      "execution_count": 0,
      "outputs": [
        {
          "output_type": "stream",
          "text": [
            "drwxrwxrwx sagauga/sagauga   0 2020-03-25 16:26 I_stamps/\n",
            "-rwxrwxrwx sagauga/sagauga 531240 2020-03-25 03:25 I_stamps/filelist\n",
            "-rwxrwxrwx sagauga/sagauga 273600 2020-03-23 20:13 I_stamps/SPLUS.STRIPE82-0001.02039.griz_I.fits\n",
            "-rwxrwxrwx sagauga/sagauga 273600 2020-03-23 20:13 I_stamps/SPLUS.STRIPE82-0001.03217.griz_I.fits\n",
            "-rwxrwxrwx sagauga/sagauga 273600 2020-03-23 20:13 I_stamps/SPLUS.STRIPE82-0001.03462.griz_I.fits\n",
            "-rwxrwxrwx sagauga/sagauga 273600 2020-03-23 20:13 I_stamps/SPLUS.STRIPE82-0001.03521.griz_I.fits\n",
            "-rwxrwxrwx sagauga/sagauga 273600 2020-03-23 20:13 I_stamps/SPLUS.STRIPE82-0001.03529.griz_I.fits\n",
            "-rwxrwxrwx sagauga/sagauga 273600 2020-03-23 20:13 I_stamps/SPLUS.STRIPE82-0001.03897.griz_I.fits\n",
            "-rwxrwxrwx sagauga/sagauga 273600 2020-03-23 20:13 I_stamps/SPLUS.STRIPE82-0001.04092.griz_I.fits\n",
            "-rwxrwxrwx sagauga/sagauga 273600 2020-03-23 20:13 I_stamps/SPLUS.STRIPE82-0001.04209.griz_I.fits\n",
            "-rwxrwxrwx sagauga/sagauga 273600 2020-03-23 20:13 I_stamps/SPLUS.STRIPE82-0001.04261.griz_I.fits\n",
            "-rwxrwxrwx sagauga/sagauga 273600 2020-03-23 20:13 I_stamps/SPLUS.STRIPE82-0001.04390.griz_I.fits\n",
            "-rwxrwxrwx sagauga/sagauga 273600 2020-03-23 20:13 I_stamps/SPLUS.STRIPE82-0001.04450.griz_I.fits\n",
            "-rwxrwxrwx sagauga/sagauga 273600 2020-03-23 20:13 I_stamps/SPLUS.STRIPE82-0001.04690.griz_I.fits\n",
            "-rwxrwxrwx sagauga/sagauga 273600 2020-03-23 20:13 I_stamps/SPLUS.STRIPE82-0001.05080.griz_I.fits\n",
            "-rwxrwxrwx sagauga/sagauga 273600 2020-03-23 20:13 I_stamps/SPLUS.STRIPE82-0001.05556.griz_I.fits\n",
            "-rwxrwxrwx sagauga/sagauga 273600 2020-03-23 20:13 I_stamps/SPLUS.STRIPE82-0001.05710.griz_I.fits\n",
            "-rwxrwxrwx sagauga/sagauga 273600 2020-03-23 20:13 I_stamps/SPLUS.STRIPE82-0001.06100.griz_I.fits\n",
            "-rwxrwxrwx sagauga/sagauga 273600 2020-03-23 20:13 I_stamps/SPLUS.STRIPE82-0001.06137.griz_I.fits\n",
            "-rwxrwxrwx sagauga/sagauga 273600 2020-03-23 20:13 I_stamps/SPLUS.STRIPE82-0001.06710.griz_I.fits\n"
          ],
          "name": "stdout"
        }
      ]
    },
    {
      "cell_type": "code",
      "metadata": {
        "id": "1n0k-N8EYdCD",
        "colab_type": "code",
        "colab": {}
      },
      "source": [
        "!tar -C /content -xvf \"$RAW_STAMPS_PATH/F378_stamps.tar.xz\" F378/F378_stamps/SPLUS.STRIPE82-0070.18623.griz_F378.fits"
      ],
      "execution_count": 0,
      "outputs": []
    },
    {
      "cell_type": "code",
      "metadata": {
        "id": "trTNmy2SY8j5",
        "colab_type": "code",
        "outputId": "1d8ce731-3903-4c0b-b5fc-eca002ae17f6",
        "colab": {
          "base_uri": "https://localhost:8080/",
          "height": 506
        }
      },
      "source": [
        "def p(image_array):\n",
        "  l = lambda e, median: e if not np.isnan(e) and e > median and e > 0.0 else 0.0\n",
        "  l = np.vectorize(l)\n",
        "  median = np.median(image_array)\n",
        "  image = l(np.array(image_array), median)\n",
        "  image /= np.amax(image)\n",
        "  return image\n",
        "\n",
        "im = fits.getdata('/content/I_stamps/SPLUS.STRIPE82-0001.05080.griz_I.fits', ext=0)\n",
        "# plt.imshow(im)\n",
        "# plt.show()\n",
        "# im = p(im)\n",
        "\n",
        "c = Cutout2D(im, (128, 128), 128)\n",
        "c1 = Cutout2D(im, (128, 128), 64)\n",
        "# plt.imshow(c.data)\n",
        "# plt.show()\n",
        "\n",
        "m = ndimage.zoom(c.data, 0.5)\n",
        "plt.imshow(m)\n",
        "plt.show()\n",
        "\n",
        "print(p(m))\n"
      ],
      "execution_count": 0,
      "outputs": [
        {
          "output_type": "display_data",
          "data": {
            "image/png": "[encoded data removed]",
            "text/plain": [
              "<Figure size 576x432 with 1 Axes>"
            ]
          },
          "metadata": {
            "tags": []
          }
        },
        {
          "output_type": "stream",
          "text": [
            "[[0.         0.0068371  0.00805232 ... 0.01380971 0.         0.        ]\n",
            " [0.         0.00309328 0.         ... 0.         0.         0.00381486]\n",
            " [0.00393158 0.01182008 0.00555721 ... 0.         0.00691319 0.        ]\n",
            " ...\n",
            " [0.00340735 0.         0.         ... 0.00487374 0.0039124  0.        ]\n",
            " [0.         0.         0.00631595 ... 0.         0.00759469 0.        ]\n",
            " [0.         0.         0.01078957 ... 0.01447526 0.         0.        ]]\n"
          ],
          "name": "stdout"
        }
      ]
    },
    {
      "cell_type": "markdown",
      "metadata": {
        "id": "wYZDNs97Fuly",
        "colab_type": "text"
      },
      "source": [
        "# Median"
      ]
    },
    {
      "cell_type": "code",
      "metadata": {
        "id": "SjnY_PmfFvvK",
        "colab_type": "code",
        "colab": {}
      },
      "source": [
        "df = create_dataframe()\n",
        "p = Preprocess('/content/data', ['R', 'G', 'Z'], df, (256, 256))\n",
        "m = p.dataset_mean()"
      ],
      "execution_count": 0,
      "outputs": []
    },
    {
      "cell_type": "code",
      "metadata": {
        "id": "XPpml8qmTDQ9",
        "colab_type": "code",
        "outputId": "798eb6b1-ec0f-45a1-b3ba-7a918b91b787",
        "colab": {
          "base_uri": "https://localhost:8080/",
          "height": 813
        }
      },
      "source": [
        "print('R_median_min:', np.amin(m['R']), 'R_median_max:', np.amax(m['R']))\n",
        "plt.figure()\n",
        "plt.hist(m['R'], bins=120)\n",
        "plt.show()\n",
        "print('G_median_min:', np.amin(m['G']), 'G_median_max:', np.amax(m['G']))\n",
        "plt.figure()\n",
        "plt.hist(m['G'], bins=120)\n",
        "plt.show()\n",
        "print('Z_median_min:', np.amin(m['Z']), 'Z_median_max:', np.amax(m['Z']))\n",
        "plt.figure()\n",
        "plt.hist(m['Z'], bins=120)\n",
        "plt.show()"
      ],
      "execution_count": 0,
      "outputs": [
        {
          "output_type": "stream",
          "text": [
            "R_mean_min: -0.08060667 R_mean_max: 28.34475\n"
          ],
          "name": "stdout"
        },
        {
          "output_type": "display_data",
          "data": {
            "image/png": "[encoded data removed]",
            "text/plain": [
              "<Figure size 432x288 with 1 Axes>"
            ]
          },
          "metadata": {
            "tags": [],
            "needs_background": "light"
          }
        },
        {
          "output_type": "stream",
          "text": [
            "G_mean_min: -0.04681581 G_mean_max: 15.430484\n"
          ],
          "name": "stdout"
        },
        {
          "output_type": "display_data",
          "data": {
            "image/png": "[encoded data removed]",
            "text/plain": [
              "<Figure size 432x288 with 1 Axes>"
            ]
          },
          "metadata": {
            "tags": [],
            "needs_background": "light"
          }
        },
        {
          "output_type": "stream",
          "text": [
            "Z_mean_min: -0.40006396 Z_mean_max: 21.851059\n"
          ],
          "name": "stdout"
        },
        {
          "output_type": "display_data",
          "data": {
            "image/png": "[encoded data removed]",
            "text/plain": [
              "<Figure size 432x288 with 1 Axes>"
            ]
          },
          "metadata": {
            "tags": [],
            "needs_background": "light"
          }
        }
      ]
    }
  ]
}