{
  "nbformat": 4,
  "nbformat_minor": 0,
  "metadata": {
    "colab": {
      "name": "splus_model.ipynb",
      "provenance": [],
      "collapsed_sections": [
        "Dfhn_xuMzlGv"
      ],
      "toc_visible": true,
      "mount_file_id": "1AZ581kRn-dsuPaP-9xt3ys9A5ZCXVaA1",
      "authorship_tag": "ABX9TyOAWeSbUhu3eAF5yI+Hzhkn",
      "include_colab_link": true
    },
    "kernelspec": {
      "name": "python3",
      "display_name": "Python 3"
    },
    "accelerator": "GPU"
  },
  "cells": [
    {
      "cell_type": "markdown",
      "metadata": {
        "id": "view-in-github",
        "colab_type": "text"
      },
      "source": [
        "<a href=\"https://colab.research.google.com/github/nmcardoso/galmorpho/blob/master/splus_model.ipynb\" target=\"_parent\"><img src=\"https://colab.research.google.com/assets/colab-badge.svg\" alt=\"Open In Colab\"/></a>"
      ]
    },
    {
      "cell_type": "code",
      "metadata": {
        "id": "vivABYTN239V",
        "colab_type": "code",
        "colab": {}
      },
      "source": [
        "%tensorflow_version 1.x \n",
        "import random\n",
        "import tensorflow as tf\n",
        "import numpy as np\n",
        "import os\n",
        "import glob\n",
        "import multiprocessing as mp\n",
        "import shutil\n",
        "import pandas as pd\n",
        "import matplotlib.pyplot as plt\n",
        "from keras import backend as K\n",
        "from keras import layers\n",
        "from keras import models\n",
        "from keras import optimizers\n",
        "from keras import utils\n",
        "from keras import applications\n",
        "from keras.preprocessing.image import ImageDataGenerator, array_to_img, img_to_array, load_img\n",
        "from keras.applications import VGG16\n",
        "from keras.applications import ResNet50V2\n",
        "from progressbar import progressbar\n",
        "from keras.utils import np_utils\n",
        "import requests\n",
        "\n",
        "!pip3 install git+https://github.com/nmcardoso/fitsbook-python\n",
        "import fitsbook as fb"
      ],
      "execution_count": null,
      "outputs": []
    },
    {
      "cell_type": "code",
      "metadata": {
        "id": "AqLHp_vx9e2V",
        "colab_type": "code",
        "colab": {
          "base_uri": "https://localhost:8080/",
          "height": 34
        },
        "outputId": "6eb343bc-d2e5-4e74-8676-37bfb34e3f42"
      },
      "source": [
        "# Reprodutibilidade\n",
        "# https://keras.io/getting-started/faq/#how-can-i-obtain-reproducible-results-using-keras-during-development\n",
        "\n",
        "os.environ['PYTHONHASHSEED'] = '12'\n",
        "np.random.seed(123)\n",
        "random.seed(1234)\n",
        "tf.set_random_seed(12345)\n",
        "\n",
        "# session_conf = tf.ConfigProto(intra_op_parallelism_threads=1, \n",
        "#                               inter_op_parallelism_threads=1)\n",
        "# sess = tf.Session(graph=tf.get_default_graph(), config=session_conf)\n",
        "# K.set_session(sess)\n",
        "\n",
        "print('Sementes Plantadas!')"
      ],
      "execution_count": null,
      "outputs": [
        {
          "output_type": "stream",
          "text": [
            "Sementes Plantadas!\n"
          ],
          "name": "stdout"
        }
      ]
    },
    {
      "cell_type": "markdown",
      "metadata": {
        "id": "T8IDVH7Pz1so",
        "colab_type": "text"
      },
      "source": [
        "## Preparação dos dados"
      ]
    },
    {
      "cell_type": "code",
      "metadata": {
        "id": "e2cNynjnqAWx",
        "colab_type": "code",
        "colab": {}
      },
      "source": [
        "!cp \"/content/drive/My Drive/splus_data/datasets/splus_64px_12ch.tar.xz\" dataset.tar.xz\n",
        "!cp \"/content/drive/My Drive/splus_data/datasets/train_table.csv\" /content\n",
        "!cp \"/content/drive/My Drive/splus_data/datasets/val_table.csv\" /content\n",
        "!cp \"/content/drive/My Drive/splus_data/datasets/test_table.csv\" /content"
      ],
      "execution_count": null,
      "outputs": []
    },
    {
      "cell_type": "code",
      "metadata": {
        "id": "rbYRpllzlv7l",
        "colab_type": "code",
        "colab": {}
      },
      "source": [
        "!tar -xf dataset.tar.xz"
      ],
      "execution_count": null,
      "outputs": []
    },
    {
      "cell_type": "code",
      "metadata": {
        "id": "PKouK0TO1odD",
        "colab_type": "code",
        "colab": {}
      },
      "source": [
        "class NpySequence(utils.Sequence):\n",
        "  \"\"\"Generate data for Keras\"\"\"\n",
        "  def __init__(self, X, labels, classes, image_size=(256, 256), channels=3, batch_size=32, output_channels=3, channel_range=None):\n",
        "    self.X = X\n",
        "    self.labels = self.__to_categorical(labels, classes)\n",
        "    self.image_size = image_size\n",
        "    self.channels = channels\n",
        "    self.output_channels = output_channels\n",
        "    self.channel_range = channel_range\n",
        "    self.batch_size = batch_size\n",
        "    self.indexes = [i for i in range(len(X[0]))] # X[0] - photometric\n",
        "    np.random.shuffle(self.indexes)\n",
        "  \n",
        "  def __len__(self):\n",
        "    \"\"\"The number of batches per epoch\"\"\"\n",
        "    # return int(np.floor(len(self.X[0]) / self.batch_size)) - with photometric\n",
        "    return int(np.floor(len(self.X) / self.batch_size))\n",
        "  \n",
        "  def __getitem__(self, index):\n",
        "    \"\"\"Generate one batch of data\"\"\"\n",
        "    partition = self.indexes[index * self.batch_size : (index + 1) * self.batch_size]\n",
        "    X, Y = self.__data_generation(partition)\n",
        "    if self.channel_range:\n",
        "      return X[..., self.channel_range[0]:self.channel_range[1]], Y\n",
        "    elif self.channels > self.output_channels:\n",
        "      return [X[..., 0:3], X[..., 3:6], X[..., 6:9], X[..., 9:12], self.__get_photo_data(partition)], Y\n",
        "    else:\n",
        "      return X, Y\n",
        "  \n",
        "  def on_epoch_end(self):\n",
        "    \"\"\"Shuffle files list and remap labels\"\"\"\n",
        "    np.random.shuffle(self.indexes)\n",
        "    \n",
        "  def __to_categorical(self, labels, classes):\n",
        "    \"\"\"Labels to numbers\"\"\"\n",
        "    classes_dict = {c:i for i,c in enumerate(classes)}\n",
        "    return [classes_dict[l] for l in labels]\n",
        "\n",
        "  def __data_generation(self, partition):\n",
        "    \"\"\"Load npy file and associate with a label\"\"\"\n",
        "    X = np.empty((self.batch_size, *self.image_size, self.channels))\n",
        "    Y = np.empty((self.batch_size,), dtype=int)\n",
        "\n",
        "    for i, index in enumerate(partition):\n",
        "      # X[i,] = np.load(self.X[0][index]) - with photometric\n",
        "      X[i,] = np.load(self.X[index])\n",
        "      Y[i] = self.labels[index]\n",
        "\n",
        "    return X, Y\n",
        "\n",
        "  def __get_photo_data(self, partition):\n",
        "    X = []\n",
        "    for i, index in enumerate(partition):\n",
        "      X.append(self.X[1][index])\n",
        "    return np.array(X)"
      ],
      "execution_count": null,
      "outputs": []
    },
    {
      "cell_type": "code",
      "metadata": {
        "id": "1gI1JqIpyWsH",
        "colab_type": "code",
        "colab": {}
      },
      "source": [
        "class NpySequence2(utils.Sequence):\n",
        "  \"\"\"Generate data for Keras\n",
        "  Source: https://stanford.edu/~shervine/blog/keras-how-to-generate-data-on-the-fly\"\"\"\n",
        "  def __init__(self, X, Y, image_size=(256, 256), num_channels=3, channels=[], split=False, batch_size=32):\n",
        "    self.X = X\n",
        "    self.Y = Y\n",
        "    self.image_size = image_size\n",
        "    self.num_channels = num_channels\n",
        "    self.channels = channels\n",
        "    self.batch_size = batch_size\n",
        "    self.split = split\n",
        "    self.indexes = [i for i in range(len(X))]\n",
        "    np.random.shuffle(self.indexes)\n",
        "  \n",
        "  def __len__(self):\n",
        "    \"\"\"The number of batches per epoch\"\"\"\n",
        "    return int(np.floor(len(self.X) / self.batch_size))\n",
        "  \n",
        "  def __getitem__(self, index):\n",
        "    \"\"\"Generate one batch of data\"\"\"\n",
        "    partition = self.indexes[index * self.batch_size : (index + 1) * self.batch_size]\n",
        "    X, Y = self.__data_generation(partition)\n",
        "\n",
        "    if self.split:\n",
        "      return [X[..., 0:3], X[..., 3:6], X[..., 6:9], X[..., 9:12]], Y\n",
        "\n",
        "    return X, Y\n",
        "  \n",
        "  def on_epoch_end(self):\n",
        "    \"\"\"Shuffle files list and remap labels\"\"\"\n",
        "    np.random.shuffle(self.indexes)\n",
        "\n",
        "  def __data_generation(self, partition):\n",
        "    \"\"\"Load npy file and associate with a label\"\"\"\n",
        "    X = np.empty((self.batch_size, *self.image_size, self.num_channels))\n",
        "    Y = np.empty((self.batch_size,), dtype=int)\n",
        "\n",
        "    if not self.channels:\n",
        "      for i, index in enumerate(partition):\n",
        "        X[i,] =  np.load(self.X[index])\n",
        "        Y[i] = self.Y[index]\n",
        "    else:\n",
        "      for i, index in enumerate(partition):\n",
        "        X[i,] =  np.take(np.load(self.X[index]), self.channels, axis=2)\n",
        "        Y[i] = self.Y[index]\n",
        "\n",
        "    return X, np_utils.to_categorical(Y, num_classes=2)"
      ],
      "execution_count": null,
      "outputs": []
    },
    {
      "cell_type": "markdown",
      "metadata": {
        "id": "VZ4ZuEFRzlJG",
        "colab_type": "text"
      },
      "source": [
        "## Modelos"
      ]
    },
    {
      "cell_type": "markdown",
      "metadata": {
        "id": "Dfhn_xuMzlGv",
        "colab_type": "text"
      },
      "source": [
        "### Não usados"
      ]
    },
    {
      "cell_type": "code",
      "metadata": {
        "id": "MjJXg_UMzsSw",
        "colab_type": "code",
        "colab": {}
      },
      "source": [
        "def inception_module(layer_in, f1, f2_in, f2_out, f3_in, f3_out, f4_out):\n",
        "  # 1x1 conv\n",
        "  conv1 = layers.Conv2D(f1, (1, 1), padding='same', activation='relu')(layer_in)\n",
        "\n",
        "  # 3x3 conv\n",
        "  conv3 = layers.Conv2D(f2_in, (1, 1), padding='same', activation='relu')(layer_in)\n",
        "  conv3 = layers.Conv2D(f2_out, (3, 3), padding='same', activation='relu')(layer_in)\n",
        "\n",
        "  # 5x5 conv\n",
        "  conv5 = layers.Conv2D(f3_in, (1, 1), padding='same', activation='relu')(layer_in)\n",
        "  conv5 = layers.Conv2D(f3_out, (5, 5), padding='same', activation='relu')(conv5)\n",
        "\n",
        "  # 3x3 max pooling\n",
        "  pool = layers.MaxPooling2D((3, 3), strides=(1, 1), padding='same')(layer_in)\n",
        "  pool = layers.Conv2D(f4_out, (1, 1), padding='same', activation='relu')(pool)\n",
        "\n",
        "  # concatenate filters, assumes filters/channels last\n",
        "  layer_out = layers.concatenate([conv1, conv3, conv5, pool], axis=-1)\n",
        "  return layer_out\n",
        "\n",
        "def compile_inception_model(image_size):\n",
        "  input_layer = layers.Input(shape=image_size + (3,))\n",
        "  conv1 = layers.Conv2D(32, (3, 3), activation='relu', padding='same')(input_layer)\n",
        "  pool1 = layers.MaxPool2D((2, 2))(conv1)\n",
        "  conv2 = layers.Conv2D(64, (3, 3), activation='relu', padding='same')(pool1)\n",
        "  pool2 = layers.MaxPool2D((2, 2))(conv2)\n",
        "  iblock1 = inception_module(input_layer, 32, 48, 64, 8, 16, 16)\n",
        "  iblock2 = inception_module(iblock1, 64, 48, 96, 16, 48, 32)\n",
        "  flatten = layers.Flatten()(iblock2)\n",
        "  dense1 = layers.Dense(1024, activation='relu')(flatten)\n",
        "  dropout1 = layers.Dropout(.3)(dense1)\n",
        "  dense2 = layers.Dense(512, activation='relu')(dropout1)\n",
        "  dropout2 = layers.Dropout(.3)(dense2)\n",
        "  dense3 = layers.Dense(256, activation='relu')(dropout2)\n",
        "  dropout3 = layers.Dropout(.3)(dense3)\n",
        "  output = layers.Dense(1, activation='sigmoid')(dropout3)\n",
        "  model = models.Model(inputs=input_layer, outputs=output)\n",
        "  model.name = 'splus_inception'\n",
        "  utils.plot_model(model, to_file='model.png')\n",
        "  model.compile(optimizer=optimizers.RMSprop(lr=5e-5),\n",
        "                loss='binary_crossentropy',\n",
        "                metrics=['acc'])\n",
        "  return model\n",
        "\n",
        "def compile_inception_pretrained(image_size):\n",
        "  base_model = applications.InceptionV3(weights='imagenet', include_top=False, input_shape=(256, 256, 3))\n",
        "\n",
        "  x = base_model.output\n",
        "  x = layers.GlobalAveragePooling2D()(x)\n",
        "  x = layers.Dense(512, activation='relu')(x)\n",
        "  x = layers.Dropout(.5)(x)\n",
        "  x = layers.Dense(256, activation='relu')(x)\n",
        "  x = layers.Dropout(.5)(x)\n",
        "  output = layers.Dense(1, activation='sigmoid')(x)\n",
        "\n",
        "  model = models.Model(inputs=base_model.input, outputs=output)\n",
        "  model.name = 'splus_inception_pretrained'\n",
        "\n",
        "  for layer in base_model.layers:\n",
        "    layer.trainable = False\n",
        "  \n",
        "  model.compile(optimizer=optimizers.RMSprop(lr=5e-5),\n",
        "                loss='binary_crossentropy',\n",
        "                metrics=['acc'])\n",
        "  \n",
        "  return model\n",
        "\n",
        "def compile_VGG16(image_size):\n",
        "  model = models.Sequential()\n",
        "  model.name = 'splus_vgg16_impl'\n",
        "  model.add(layers.Conv2D(64, (3, 3), padding='same', activation='relu', input_shape=(image_size + (3,))))\n",
        "  model.add(layers.Conv2D(64, (3, 3), padding='same', activation='relu'))\n",
        "  model.add(layers.MaxPooling2D((2, 2)))\n",
        "  model.add(layers.Conv2D(128, (3, 3), padding='same', activation='relu'))\n",
        "  model.add(layers.Conv2D(128, (3, 3), padding='same', activation='relu'))\n",
        "  model.add(layers.MaxPooling2D((2, 2)))\n",
        "  model.add(layers.Conv2D(256, (3, 3), padding='same', activation='relu'))\n",
        "  model.add(layers.Conv2D(256, (3, 3), padding='same', activation='relu'))\n",
        "  model.add(layers.Conv2D(256, (3, 3), padding='same', activation='relu'))\n",
        "  model.add(layers.MaxPooling2D((2, 2)))\n",
        "  model.add(layers.Conv2D(512, (3, 3), padding='same', activation='relu'))\n",
        "  model.add(layers.Conv2D(512, (3, 3), padding='same', activation='relu'))\n",
        "  model.add(layers.Conv2D(512, (3, 3), padding='same', activation='relu'))\n",
        "  model.add(layers.MaxPooling2D((2, 2)))\n",
        "  model.add(layers.Conv2D(512, (3, 3), padding='same', activation='relu'))\n",
        "  model.add(layers.Conv2D(512, (3, 3), padding='same', activation='relu'))\n",
        "  model.add(layers.Conv2D(512, (3, 3), padding='same', activation='relu'))\n",
        "  model.add(layers.MaxPooling2D((2, 2)))\n",
        "  model.add(layers.Flatten())\n",
        "  model.add(layers.Dense(2048, activation='relu'))\n",
        "  model.add(layers.Dropout(.5))\n",
        "  model.add(layers.Dense(1024, activation='relu'))\n",
        "  model.add(layers.Dropout(.5))\n",
        "  model.add(layers.Dense(512, activation='relu'))\n",
        "  model.add(layers.Dense(1, activation='sigmoid'))\n",
        "  model.compile(optimizer=optimizers.RMSprop(lr=1e-4),\n",
        "                loss='binary_crossentropy',\n",
        "                metrics=['acc'])\n",
        "  return model\n",
        "\n",
        "def compile_multidim_model(image_size):\n",
        "  input_tensor = layers.Input(shape=image_size + (1,))\n",
        "\n",
        "  branch_outputs = []\n",
        "  for i in range(3):\n",
        "    out = layers.Lambda(lambda x: x[:, i])(input_tensor)\n",
        "    out = layers.Conv2D(32, (3, 3), activation='relu', padding='same', input_shape=(image_size + (1,)))(out)\n",
        "    out = layers.MaxPooling2D((2, 2))(out)\n",
        "    out = layers.Conv2D(64, (3, 3), activation='relu', padding='same', input_shape=(image_size + (1,)))(out)\n",
        "    out = layers.MaxPooling2D((2, 2))(out)\n",
        "    out = layers.Conv2D(128, (3, 3), activation='relu', padding='same', input_shape=(image_size + (1,)))(out)\n",
        "    out = layers.MaxPooling2D((2, 2))(out)\n",
        "    branch_outputs.append(out)\n",
        "  \n",
        "  x = layers.Concatenate()(branch_outputs)\n",
        "  x = layers.Flatten()(x)\n",
        "  x = layers.Dense(1024, activation='relu')(x)\n",
        "  x = layers.Dropout(.5)(x)\n",
        "  x = layers.Dense(512, activation='relu')(x)\n",
        "  x = layers.Dropout(.5)(x)\n",
        "  x = layers.Dense(256, activation='relu')(x)\n",
        "  x = layers.Dropout(.5)(x)\n",
        "  x = layers.Dense(1, activation='sigmoid')(x)\n",
        "\n",
        "  model = models.Model(inputs=input_tensor, outputs=x)\n",
        "  model.name = 'splus_multidim_conv'\n",
        "  model.compile(optimizer=optimizers.RMSprop(lr=5e-5),\n",
        "                loss='binary_crossentropy',\n",
        "                metrics=['acc'])\n",
        "  utils.plot_model(model, to_file='model.png')\n",
        "  return model"
      ],
      "execution_count": null,
      "outputs": []
    },
    {
      "cell_type": "markdown",
      "metadata": {
        "id": "ni3VnVz_zvzw",
        "colab_type": "text"
      },
      "source": [
        "### Usados"
      ]
    },
    {
      "cell_type": "code",
      "metadata": {
        "id": "idKUoZkgSBzH",
        "colab_type": "code",
        "colab": {}
      },
      "source": [
        "def compile_parallel_model(image_size, channels=3):\n",
        "  # inception_model = applications.InceptionV3(weights='imagenet', include_top=False, input_shape=image_size + (3,))\n",
        "  # for layer in inception_model.layers:\n",
        "  #     layer.trainable = False\n",
        "\n",
        "  # input_layer = layers.Input(shape=image_size + (channels,))\n",
        "  branch_outputs = []\n",
        "  inputs = []\n",
        "  for i in range(int(channels / 3)):\n",
        "    # x = layers.Lambda(lambda t: t[..., (i * 3):(i * 3 + 2)])(input_layer)\n",
        "    # base_model = applications.InceptionV3(weights='imagenet', include_top=False, input_tensor=x)\n",
        "    # for layer in base_model.layers:\n",
        "    #   layer.trainable = False\n",
        "    # j = inception_model.output\n",
        "    # x = layers.GlobalAveragePooling2D()(j)\n",
        "    input_layer = layers.Input(shape=image_size + (3,), name=f'InputImage_{i + 1}')\n",
        "    inputs.append(input_layer)\n",
        "    x = layers.Conv2D(32, (3, 3), activation='relu', name=f'Conv2D_{i + 1}1')(input_layer)\n",
        "    x = layers.MaxPooling2D((2, 2), name=f'MaxPooling2D_{i + 1}1')(x)\n",
        "    x = layers.Conv2D(64, (3, 3), activation='relu', name=f'Conv2D_{i + 1}2')(x)\n",
        "    x = layers.MaxPooling2D((2, 2), name=f'MaxPooling2D_{i + 1}2')(x)\n",
        "    x = layers.Conv2D(128, (3, 3), activation='relu', name=f'Conv2D_{i + 1}3')(x)\n",
        "    x = layers.MaxPooling2D((2, 2), name=f'MaxPooling2D_{i + 1}3')(x)\n",
        "    # x = layers.Conv2D(256, (3, 3), activation='relu', name=f'Conv2D_{i + 1}4')(x)\n",
        "    # x = layers.MaxPooling2D((2, 2), name=f'MaxPooling2D_{i + 1}4')(x)\n",
        "    # x = layers.Conv2D(128, (3, 3), activation='relu')(x)\n",
        "    # x = layers.MaxPooling2D((2, 2))(x)\n",
        "    branch_outputs.append(x)\n",
        "  x = layers.Concatenate(name='Mixer_1')(branch_outputs)\n",
        "  x = layers.Flatten(name='Flatten_1')(x)\n",
        "  # x = layers.Dense(2048, activation='relu')(x)\n",
        "  # x = layers.Dropout(.5)(x)\n",
        "  # x = layers.Dense(2048, activation='relu', name='Dense_1')(x)\n",
        "  # x = layers.Dropout(.5, name='Dropout_1')(x)\n",
        "  # x = layers.Dense(1024, activation='relu', name='Dense_2')(x)\n",
        "  # x = layers.Dropout(.5, name='Dropout_2')(x)\n",
        "  x = layers.Dense(512, activation='relu', name='Dense_3')(x)\n",
        "  x = layers.Dropout(.5, name='Dropout_3')(x)\n",
        "  # x = layers.Dense(256, activation='relu', name='Dense_4')(x)\n",
        "  # x = layers.Dropout(.5, name='Dropout_4')(x)\n",
        "  x = layers.Dense(2, activation='softmax', name='Dense_5')(x)\n",
        "\n",
        "  # branch_outputs = [x]\n",
        "  # photo_input = layers.Input(shape=(83,), name='Photometry')\n",
        "  # inputs.append(photo_input)\n",
        "  # x = layers.Dense(64, activation='relu', name='Dense_51')(photo_input)\n",
        "  # x = layers.Dropout(.5, name='Dropout_51')(x)\n",
        "  # x = layers.Dense(128, activation='relu', name='Dense_52')(x)\n",
        "  # x = layers.Dropout(.5, name='Dropout_52')(x)\n",
        "  # x = layers.Dense(256, activation='relu', name='Dense_53')(x)\n",
        "  # x = layers.Dropout(.5, name='Dropout_53')(x)\n",
        "  # x = layers.Dense(1, activation='sigmoid', name='Dense_54')(x)\n",
        "  # branch_outputs.append(x)\n",
        "  # x = layers.Concatenate(name='Mixer_2')(branch_outputs)\n",
        "\n",
        "  # x = layers.Dense(1, activation='sigmoid', name='Dense_6')(x)\n",
        "\n",
        "  model = models.Model(inputs=inputs, outputs=x)\n",
        "  model.name = 'multi_input_64'\n",
        "  model.compile(optimizer=optimizers.Adam(),\n",
        "                loss='categorical_crossentropy',\n",
        "                metrics=['acc'])\n",
        "  utils.plot_model(model, to_file='model.png')\n",
        "  return model\n",
        "\n",
        "def compile_parallel_pretrained_model(image_size, channels=12):\n",
        "  inputs = []\n",
        "  outputs = []\n",
        "\n",
        "  for i in range(int(channels/3)):\n",
        "    input_layer = layers.Input(shape=image_size + (3,), name=f'InputImage_{i + 1}')\n",
        "    inputs.append(input_layer)\n",
        "    vgg16 = VGG16(weights='imagenet', include_top=False, input_tensor=input_layer)\n",
        "    vgg16.trainable = True\n",
        "    for layer in vgg16.layers:\n",
        "      layer.trainable = 'block5' in layer.name\n",
        "      layer.name = f'{i}_{layer.name}'\n",
        "    outputs.append(vgg16.outputs[0])\n",
        "  x = layers.Concatenate(name='Mixer_1')(outputs)\n",
        "  x = layers.Flatten(name='Flatten_1')(x)\n",
        "  x = layers.Dense(512, activation='relu', name='Dense_2')(x)\n",
        "  x = layers.Dropout(.5, name='Dropout_2')(x)\n",
        "  x = layers.Dense(2, activation='softmax', name='Dense_5')(x)\n",
        "\n",
        "  model = models.Model(input=inputs, output=x)\n",
        "  model.name = 'multi_input_64_VGG16'\n",
        "  model.compile(optimizer=optimizers.Adam(),\n",
        "                loss='categorical_crossentropy',\n",
        "                metrics=['acc'])\n",
        "  utils.plot_model(model, to_file='model.png')\n",
        "  return model"
      ],
      "execution_count": null,
      "outputs": []
    },
    {
      "cell_type": "code",
      "metadata": {
        "id": "3ghBzSbF9fpw",
        "colab_type": "code",
        "colab": {}
      },
      "source": [
        "def get_photometric_data(df, columns, ids):\n",
        "  r = []\n",
        "  for id in ids:\n",
        "    row = df[df.ID == id]\n",
        "    r.append(row[columns].values[0])\n",
        "  return r\n",
        "\n",
        "def preprocess_with_photometric(channel_range=None):\n",
        "  df = pd.read_csv('/content/dataset.csv')\n",
        "  E = df[df.CLASS == 'E']\n",
        "  S = df[df.CLASS == 'S']\n",
        "\n",
        "  photometric_df = pd.read_csv('/content/group_2_zoo2.csv')\n",
        "  photo_fields = ['FWHM_n','MUMAX','A','B','FlRadDet','KrRadDet','nDet_auto','nDet_aper','uJAVA_auto',\n",
        "                  'euJAVA_auto','s2n_uJAVA_auto','uJAVA_aper','euJAVA_aper','s2n_uJAVA_aper','F378_auto',\n",
        "                  'eF378_auto','s2n_F378_auto','s2n_F378_petro','F378_aper','eF378_aper','s2n_F378_aper',\n",
        "                  'F395_auto','eF395_auto','s2n_F395_auto','F395_aper','eF395_aper','s2n_F395_aper',\n",
        "                  'F410_auto','eF410_auto','s2n_F410_auto','F410_aper','eF410_aper','s2n_F410_aper',\n",
        "                  'F430_auto','eF430_auto','s2n_F430_auto','F430_aper','eF430_aper','s2n_F430_aper',\n",
        "                  'g_auto','eg_auto','s2n_g_auto','g_aper','eg_aper','s2n_g_aper','F515_auto','eF515_auto',\n",
        "                  's2n_F515_auto','F515_aper','eF515_aper','s2n_F515_aper','r_auto','er_auto','s2n_r_auto',\n",
        "                  'r_petro','r_aper','er_aper','s2n_r_aper','F660_auto','F660_aper','eF660_aper','s2n_F660_aper',\n",
        "                  'i_auto','ei_auto','s2n_i_auto', 'i_aper', 'ei_aper', 's2n_i_aper', 'F861_auto', 'eF861_auto',\n",
        "                  's2n_F861_auto','F861_aper', 'eF861_aper', 's2n_F861_aper','z_auto', 'ez_auto', 's2n_z_auto',\n",
        "                  's2n_z_petro', 'z_aper','ez_aper','s2n_z_aper', 'M_B', 'Stell_Mass']\n",
        "  \n",
        "\n",
        "  # train_df = pd.concat([E[0:3127], S[0:951]])\n",
        "  train_df = pd.concat([E[0:1400], S[0:1000]])\n",
        "  train_X = [f'/content/dataset/{f}.npy' for f in train_df.ID.tolist()]\n",
        "  train_X = [train_X, get_photometric_data(photometric_df, photo_fields, train_df.ID.tolist())]\n",
        "  train_Y = train_df.CLASS.tolist()\n",
        "\n",
        "  # val_df = pd.concat([E[3128:5004], S[952:1522]])\n",
        "  val_df = pd.concat([E[1401:2100], S[1001:1500]])\n",
        "  val_X = [f'/content/dataset/{f}.npy' for f in val_df.ID.tolist()]\n",
        "  val_X = [val_X, get_photometric_data(photometric_df, photo_fields, val_df.ID.tolist())]\n",
        "  val_Y = val_df.CLASS.tolist()\n",
        "\n",
        "  # test_df = pd.concat([E[5005:], S[1523:]])\n",
        "  test_df = pd.concat([E[2101:], S[1501:]])\n",
        "  test_X = [f'/content/dataset/{f}.npy' for f in test_df.ID.tolist()]\n",
        "  test_X = [test_X, get_photometric_data(photometric_df, photo_fields, test_df.ID.tolist())]\n",
        "  test_Y = test_df.CLASS.tolist()\n",
        "\n",
        "  train_generator = NpySequence(train_X, train_Y, ['E', 'S'], image_size=(64, 64), channels=12, batch_size=20, output_channels=3)\n",
        "  val_generator = NpySequence(val_X, val_Y, ['E', 'S'], image_size=(64, 64), channels=12, batch_size=20, output_channels=3)\n",
        "  test_generator = NpySequence(test_X, test_Y, ['E', 'S'], image_size=(64, 64), channels=12, batch_size=20, output_channels=3)\n",
        "\n",
        "  return train_generator, val_generator, test_generator\n",
        "\n",
        "def preprocess(split=False):\n",
        "  train = pd.read_csv('/content/train_table.csv')\n",
        "  val = pd.read_csv('/content/val_table.csv')\n",
        "  test = pd.read_csv('/content/test_table.csv')\n",
        "\n",
        "  to_binary = lambda y: 0 if y == 'E' else 1\n",
        "\n",
        "  train_X = [f'/content/stacked_stamps/{f}.npy' for f in train.ID.tolist()]\n",
        "  train_Y = list(map(to_binary, train.es_class.tolist()))\n",
        "  print(len(train_Y))\n",
        "\n",
        "  val_X = [f'/content/stacked_stamps/{f}.npy' for f in val.ID.tolist()]\n",
        "  val_Y = list(map(to_binary, val.es_class.tolist()))\n",
        "  print(len(val_Y))\n",
        "\n",
        "  test_X = [f'/content/stacked_stamps/{f}.npy' for f in test.ID.tolist()]\n",
        "  test_Y = list(map(to_binary, test.es_class.tolist()))\n",
        "\n",
        "  train_generator = NpySequence2(train_X, train_Y, image_size=(64, 64), num_channels=12, batch_size=32, split=split)\n",
        "  val_generator = NpySequence2(val_X, val_Y, image_size=(64, 64), num_channels=12, batch_size=32, split=split)\n",
        "  test_generator = NpySequence2(test_X, test_Y, image_size=(64, 64), num_channels=12, batch_size=20, split=split)\n",
        "\n",
        "  return train_generator, val_generator, test_generator\n",
        "\n",
        "def compile_model(image_size):\n",
        "  model = models.Sequential()\n",
        "  model.name = 'splus_convolutional'\n",
        "  model.add(layers.Conv2D(32, (3, 3), activation='relu', input_shape=(image_size + (12,))))\n",
        "  model.add(layers.MaxPooling2D((2, 2)))\n",
        "  model.add(layers.Conv2D(64, (3, 3), activation='relu'))\n",
        "  model.add(layers.MaxPooling2D((2, 2)))\n",
        "  model.add(layers.Conv2D(64, (3, 3), activation='relu'))\n",
        "  model.add(layers.MaxPooling2D((2, 2)))\n",
        "  model.add(layers.Conv2D(128, (3, 3), activation='relu'))\n",
        "  model.add(layers.MaxPooling2D((2, 2)))\n",
        "  model.add(layers.Flatten())\n",
        "  model.add(layers.Dense(512, activation='relu'))\n",
        "  model.add(layers.Dropout(.5))\n",
        "  model.add(layers.Dense(256, activation='relu'))\n",
        "  model.add(layers.Dropout(.5))\n",
        "  model.add(layers.Dense(256, activation='relu'))\n",
        "  model.add(layers.Dropout(.5))\n",
        "  model.add(layers.Dense(128, activation='relu'))\n",
        "  model.add(layers.Dropout(.5))\n",
        "  model.add(layers.Dense(2, activation='softmax'))\n",
        "\n",
        "  model.compile(optimizer=optimizers.Adam(lr=5e-2),#optimizer=optimizers.RMSprop(lr=1e-5),\n",
        "                loss='categorical_crossentropy',\n",
        "                metrics=['acc'])\n",
        "  return model\n",
        "\n",
        "def fit(model, train_generator, val_generator, epochs=1, workers=1):\n",
        "  use_mp = workers > 1\n",
        "  history = model.fit_generator(\n",
        "      train_generator,\n",
        "      steps_per_epoch=120,\n",
        "      validation_steps=40,\n",
        "      epochs=epochs,\n",
        "      validation_data=val_generator,\n",
        "      # callbacks=[fb.callbacks.FitsbookCallback()],\n",
        "      use_multiprocessing=use_mp,\n",
        "      workers=workers\n",
        "  )\n",
        "  return history"
      ],
      "execution_count": null,
      "outputs": []
    },
    {
      "cell_type": "markdown",
      "metadata": {
        "id": "KycSijHPtc_V",
        "colab_type": "text"
      },
      "source": [
        "## Treinamento"
      ]
    },
    {
      "cell_type": "code",
      "metadata": {
        "id": "hH8RLI5jyfch",
        "colab_type": "code",
        "colab": {}
      },
      "source": [
        "H = []"
      ],
      "execution_count": null,
      "outputs": []
    },
    {
      "cell_type": "code",
      "metadata": {
        "id": "Hm3MY-kw29F0",
        "colab_type": "code",
        "colab": {
          "base_uri": "https://localhost:8080/",
          "height": 598
        },
        "outputId": "957097c0-e2fd-4ada-a12d-ed372a1d0f0f"
      },
      "source": [
        "train_generator, val_generator, test_generator = preprocess(split=True)\n",
        "m = compile_parallel_pretrained_model((64, 64), 12)\n",
        "h = fit(m, train_generator, val_generator, epochs=15)\n",
        "H.append(h.history.copy())"
      ],
      "execution_count": null,
      "outputs": [
        {
          "output_type": "stream",
          "text": [
            "5874\n",
            "1468\n"
          ],
          "name": "stdout"
        },
        {
          "output_type": "stream",
          "text": [
            "/usr/local/lib/python3.6/dist-packages/ipykernel_launcher.py:89: UserWarning: Update your `Model` call to the Keras 2 API: `Model(inputs=[<tf.Tenso..., outputs=Tensor(\"De...)`\n"
          ],
          "name": "stderr"
        },
        {
          "output_type": "stream",
          "text": [
            "Epoch 1/15\n",
            "120/120 [==============================] - 35s 291ms/step - loss: 0.6036 - acc: 0.7576 - val_loss: 0.5011 - val_acc: 0.7781\n",
            "Epoch 2/15\n",
            "120/120 [==============================] - 33s 273ms/step - loss: 0.4962 - acc: 0.7797 - val_loss: 0.5296 - val_acc: 0.7812\n",
            "Epoch 3/15\n",
            "120/120 [==============================] - 33s 273ms/step - loss: 0.4639 - acc: 0.7971 - val_loss: 0.4517 - val_acc: 0.8172\n",
            "Epoch 4/15\n",
            "120/120 [==============================] - 33s 273ms/step - loss: 0.4483 - acc: 0.8091 - val_loss: 0.6137 - val_acc: 0.8023\n",
            "Epoch 5/15\n",
            "120/120 [==============================] - 33s 272ms/step - loss: 0.4312 - acc: 0.8156 - val_loss: 0.4200 - val_acc: 0.7961\n",
            "Epoch 6/15\n",
            "120/120 [==============================] - 33s 272ms/step - loss: 0.4263 - acc: 0.8190 - val_loss: 0.5579 - val_acc: 0.8250\n",
            "Epoch 7/15\n",
            "120/120 [==============================] - 33s 272ms/step - loss: 0.4341 - acc: 0.8089 - val_loss: 1.0343 - val_acc: 0.8016\n",
            "Epoch 8/15\n",
            "120/120 [==============================] - 33s 271ms/step - loss: 0.4409 - acc: 0.8138 - val_loss: 0.5939 - val_acc: 0.8133\n",
            "Epoch 9/15\n",
            "120/120 [==============================] - 33s 272ms/step - loss: 0.4078 - acc: 0.8232 - val_loss: 0.5055 - val_acc: 0.8133\n",
            "Epoch 10/15\n",
            "120/120 [==============================] - 33s 271ms/step - loss: 0.4223 - acc: 0.8161 - val_loss: 0.5175 - val_acc: 0.8102\n",
            "Epoch 11/15\n",
            "120/120 [==============================] - 33s 271ms/step - loss: 0.4123 - acc: 0.8227 - val_loss: 0.6768 - val_acc: 0.8219\n",
            "Epoch 12/15\n",
            "120/120 [==============================] - 33s 272ms/step - loss: 0.4263 - acc: 0.8190 - val_loss: 0.4535 - val_acc: 0.8180\n",
            "Epoch 13/15\n",
            "120/120 [==============================] - 33s 272ms/step - loss: 0.3987 - acc: 0.8302 - val_loss: 0.4856 - val_acc: 0.8203\n",
            "Epoch 14/15\n",
            "120/120 [==============================] - 33s 273ms/step - loss: 0.4082 - acc: 0.8258 - val_loss: 0.2526 - val_acc: 0.8148\n",
            "Epoch 15/15\n",
            "120/120 [==============================] - 33s 272ms/step - loss: 0.3857 - acc: 0.8318 - val_loss: 0.3141 - val_acc: 0.8156\n"
          ],
          "name": "stdout"
        }
      ]
    },
    {
      "cell_type": "code",
      "metadata": {
        "id": "vr01Qp4_xjPr",
        "colab_type": "code",
        "colab": {
          "base_uri": "https://localhost:8080/",
          "height": 428
        },
        "outputId": "bb7dd5a2-5597-4141-d931-4ccfa347a217"
      },
      "source": [
        "plt.figure(figsize=(12,7))\n",
        "plt.plot(H[-3]['val_acc'], 'b--', label='VA 1')\n",
        "plt.plot(H[-3]['val_loss'], 'b', label='VL 1')\n",
        "plt.plot(H[-3]['loss'], 'b--*', label='L 1')\n",
        "plt.plot(H[-2]['val_acc'], 'g--',label='VA 2')\n",
        "plt.plot(H[-2]['val_loss'], 'g', label='VL 2')\n",
        "plt.plot(H[-2]['loss'], 'g--*', label='L 2')\n",
        "plt.plot(H[-1]['val_acc'], 'r--',label='VA 3')\n",
        "plt.plot(H[-1]['val_loss'], 'r', label='VL 3')\n",
        "plt.plot(H[-1]['loss'], 'r--*', label='L 3')\n",
        "plt.legend(ncol=3)\n",
        "plt.show()"
      ],
      "execution_count": null,
      "outputs": [
        {
          "output_type": "display_data",
          "data": {
            "image/png": "[encoded data removed]",
            "text/plain": [
              "<Figure size 864x504 with 1 Axes>"
            ]
          },
          "metadata": {
            "tags": [],
            "needs_background": "light"
          }
        }
      ]
    },
    {
      "cell_type": "code",
      "metadata": {
        "id": "34B_zJuSi7Vs",
        "colab_type": "code",
        "colab": {
          "base_uri": "https://localhost:8080/",
          "height": 51
        },
        "outputId": "9ff9341e-f23f-48b1-becc-e2facb622981"
      },
      "source": [
        "print(m.metrics_names)\n",
        "print(m.evaluate_generator(test_generator))"
      ],
      "execution_count": null,
      "outputs": [
        {
          "output_type": "stream",
          "text": [
            "['loss', 'acc']\n",
            "[0.5636569261550903, 0.8287500143051147]\n"
          ],
          "name": "stdout"
        }
      ]
    },
    {
      "cell_type": "code",
      "metadata": {
        "id": "VQ_-jMEPw0zD",
        "colab_type": "code",
        "colab": {}
      },
      "source": [
        "m.save('multi_input_64_vgg16_finetune.h5')"
      ],
      "execution_count": null,
      "outputs": []
    },
    {
      "cell_type": "code",
      "metadata": {
        "id": "jk-uyOqUyXDi",
        "colab_type": "code",
        "colab": {}
      },
      "source": [
        "!cp multi_input_64_vgg16_finetune.h5 'drive/My Drive/splus_data/models/multi_input_64_vgg16_finetune.h5'"
      ],
      "execution_count": null,
      "outputs": []
    }
  ]
}