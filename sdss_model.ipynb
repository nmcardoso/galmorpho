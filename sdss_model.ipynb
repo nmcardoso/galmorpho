{
  "nbformat": 4,
  "nbformat_minor": 0,
  "metadata": {
    "colab": {
      "name": "sdss_model.ipynb",
      "provenance": [],
      "collapsed_sections": [],
      "include_colab_link": true
    },
    "kernelspec": {
      "name": "python3",
      "display_name": "Python 3"
    },
    "accelerator": "GPU"
  },
  "cells": [
    {
      "cell_type": "markdown",
      "metadata": {
        "id": "view-in-github",
        "colab_type": "text"
      },
      "source": [
        "<a href=\"https://colab.research.google.com/github/nmcardoso/galmorpho/blob/master/sdss_model.ipynb\" target=\"_parent\"><img src=\"https://colab.research.google.com/assets/colab-badge.svg\" alt=\"Open In Colab\"/></a>"
      ]
    },
    {
      "cell_type": "code",
      "metadata": {
        "id": "AG3nUrjSOt8r",
        "colab_type": "code",
        "colab": {}
      },
      "source": [
        "# Imports\n",
        "\n",
        "import random\n",
        "import tensorflow as tf\n",
        "import numpy as np\n",
        "from keras import backend as K\n",
        "import os\n",
        "\n",
        "from google.colab import drive\n",
        "\n",
        "import shutil\n",
        "\n",
        "from keras import layers\n",
        "from keras import models\n",
        "from keras import optimizers\n",
        "from keras.preprocessing.image import ImageDataGenerator, array_to_img, img_to_array, load_img\n",
        "\n",
        "import matplotlib.pyplot as plt\n",
        "\n",
        "import multiprocessing as mp\n",
        "\n",
        "from keras.applications import VGG16\n",
        "\n",
        "!pip3 install git+https://github.com/nmcardoso/fitsbook-python\n",
        "import fitsbook as fb"
      ],
      "execution_count": 0,
      "outputs": []
    },
    {
      "cell_type": "code",
      "metadata": {
        "id": "iEWLtmUlOdkI",
        "colab_type": "code",
        "outputId": "a7e0d90b-6b76-465c-dcd2-a1ffd3dd390f",
        "colab": {
          "base_uri": "https://localhost:8080/",
          "height": 34
        }
      },
      "source": [
        "# Reprodutibilidade\n",
        "# https://keras.io/getting-started/faq/#how-can-i-obtain-reproducible-results-using-keras-during-development\n",
        "\n",
        "os.environ['PYTHONHASHSEED'] = '12'\n",
        "np.random.seed(123)\n",
        "random.seed(1234)\n",
        "tf.set_random_seed(12345)\n",
        "\n",
        "# session_conf = tf.ConfigProto(intra_op_parallelism_threads=1, \n",
        "#                               inter_op_parallelism_threads=1)\n",
        "# sess = tf.Session(graph=tf.get_default_graph(), config=session_conf)\n",
        "# K.set_session(sess)\n",
        "\n",
        "print('Sementes Plantadas!')"
      ],
      "execution_count": 0,
      "outputs": [
        {
          "output_type": "stream",
          "text": [
            "Sementes Plantadas!\n"
          ],
          "name": "stdout"
        }
      ]
    },
    {
      "cell_type": "code",
      "metadata": {
        "id": "Sut2JQRWO5Fg",
        "colab_type": "code",
        "outputId": "26b5b2c2-865e-45b4-9e03-57455fda6444",
        "colab": {
          "base_uri": "https://localhost:8080/",
          "height": 124
        }
      },
      "source": [
        "# Montando Google Drive\n",
        "\n",
        "drive.mount('/gdrive')"
      ],
      "execution_count": 0,
      "outputs": [
        {
          "output_type": "stream",
          "text": [
            "Go to this URL in a browser: https://accounts.google.com/o/oauth2/auth?client_id=947318989803-6bn6qk8qdgf4n4g3pfee6491hc0brc4i.apps.googleusercontent.com&redirect_uri=urn%3aietf%3awg%3aoauth%3a2.0%3aoob&response_type=code&scope=email%20https%3a%2f%2fwww.googleapis.com%2fauth%2fdocs.test%20https%3a%2f%2fwww.googleapis.com%2fauth%2fdrive%20https%3a%2f%2fwww.googleapis.com%2fauth%2fdrive.photos.readonly%20https%3a%2f%2fwww.googleapis.com%2fauth%2fpeopleapi.readonly\n",
            "\n",
            "Enter your authorization code:\n",
            "··········\n",
            "Mounted at /gdrive\n"
          ],
          "name": "stdout"
        }
      ]
    },
    {
      "cell_type": "code",
      "metadata": {
        "id": "Ot9bQvozO5hO",
        "colab_type": "code",
        "colab": {}
      },
      "source": [
        "if (os.path.exists('/content/train_data')):\n",
        "  shutil.rmtree('/content/train_data')\n",
        "!tar -xf '/gdrive/My Drive/ml_datasets/sdss_full_80px.tar.gz' -C '/content/'\n",
        "!mv '/content/downloads' '/content/train_data'"
      ],
      "execution_count": 0,
      "outputs": []
    },
    {
      "cell_type": "code",
      "metadata": {
        "id": "FRN79FtMRNVv",
        "colab_type": "code",
        "colab": {}
      },
      "source": [
        "if (os.path.exists('/content/test_data')):\n",
        "  shutil.rmtree('/content/test_data')\n",
        "!mkdir '/content/test_data'\n",
        "\n",
        "dirs = os.listdir('/content/train_data')\n",
        "for di in dirs:\n",
        "  files = os.listdir(f'/content/train_data/{di}')\n",
        "  samples = len(files)\n",
        "  test_samples = int(samples * .025)\n",
        "  os.mkdir(f'/content/test_data/{di}')\n",
        "  for f in files[:test_samples]:\n",
        "    shutil.move(f'/content/train_data/{di}/{f}', f'/content/test_data/{di}')"
      ],
      "execution_count": 0,
      "outputs": []
    },
    {
      "cell_type": "code",
      "metadata": {
        "id": "XgsYAW-GyEQw",
        "colab_type": "code",
        "colab": {}
      },
      "source": [
        "if (os.path.exists('/content/val_data')):\n",
        "  shutil.rmtree('/content/val_data')\n",
        "!mkdir '/content/val_data'\n",
        "\n",
        "dirs = os.listdir('/content/train_data')\n",
        "for di in dirs:\n",
        "  files = os.listdir(f'/content/train_data/{di}')\n",
        "  samples = len(files)\n",
        "  val_samples = int(samples * .15)\n",
        "  os.mkdir(f'/content/val_data/{di}')\n",
        "  for f in files[:val_samples]:\n",
        "    shutil.move(f'/content/train_data/{di}/{f}', f'/content/val_data/{di}')"
      ],
      "execution_count": 0,
      "outputs": []
    },
    {
      "cell_type": "code",
      "metadata": {
        "id": "Pq5komKO3h3a",
        "colab_type": "code",
        "colab": {}
      },
      "source": [
        "def transform_image(source, output):\n",
        "  basename = os.path.basename(source)\n",
        "\n",
        "  datagen = ImageDataGenerator(\n",
        "        rotation_range=40,\n",
        "        width_shift_range=0.2,\n",
        "        height_shift_range=0.2,\n",
        "        shear_range=0.2,\n",
        "        zoom_range=0.2,\n",
        "        horizontal_flip=True,\n",
        "        vertical_flip=True,\n",
        "        fill_mode='nearest')\n",
        "  \n",
        "  img = load_img(source)\n",
        "  img_tensor = img_to_array(img)\n",
        "  img_tensor = img_tensor.reshape((1,) + img_tensor.shape)\n",
        "\n",
        "  i = 0\n",
        "  for batch in datagen.flow(img_tensor, \n",
        "                            seed=123, \n",
        "                            batch_size=1,\n",
        "                            save_to_dir=output, \n",
        "                            save_prefix=basename, \n",
        "                            save_format='jpeg'):\n",
        "    i += 1\n",
        "    if i >= 10:\n",
        "      break\n",
        "\n",
        "def batch_transform_images(concurrency=50):\n",
        "  print(f'Starting data augmentation with {concurrency} parallel processes')\n",
        "\n",
        "  transform_count = 0\n",
        "\n",
        "  def pool_cb(result):\n",
        "    nonlocal transform_count\n",
        "    transform_count += 1\n",
        "\n",
        "  paths = ['/content/train_data', '/content/val_data']\n",
        "\n",
        "  pool = mp.Pool(processes=concurrency)\n",
        "  for p in paths:\n",
        "    for root, dirs, files in os.walk(p):\n",
        "      for f in files:\n",
        "        pool.apply_async(transform_image, callback=pool_cb, args=(os.path.join(root, f), root))\n",
        "\n",
        "  pool.close()\n",
        "  pool.join()\n",
        "\n",
        "  print(f'Data augmentation finished with {transform_count} new images')"
      ],
      "execution_count": 0,
      "outputs": []
    },
    {
      "cell_type": "code",
      "metadata": {
        "id": "OxIysI5_XYki",
        "colab_type": "code",
        "outputId": "5f40efc7-0728-4727-e5f3-810d6326c5c1",
        "colab": {
          "base_uri": "https://localhost:8080/",
          "height": 51
        }
      },
      "source": [
        "batch_transform_images(concurrency=50)"
      ],
      "execution_count": 0,
      "outputs": [
        {
          "output_type": "stream",
          "text": [
            "Starting data augmentation with 50 parallel processes\n",
            "Data augmentation finished with 11565 new images\n"
          ],
          "name": "stdout"
        }
      ]
    },
    {
      "cell_type": "code",
      "metadata": {
        "id": "c43T11m-ZFFN",
        "colab_type": "code",
        "colab": {}
      },
      "source": [
        "train_generator = None\n",
        "val_generator = None\n",
        "test_generator = None\n",
        "model = None\n",
        "history = None\n",
        "image_size = (80, 80)"
      ],
      "execution_count": 0,
      "outputs": []
    },
    {
      "cell_type": "code",
      "metadata": {
        "id": "PfLRgunpYiSY",
        "colab_type": "code",
        "colab": {}
      },
      "source": [
        "def preprocess():\n",
        "  global train_generator, test_generator, val_generator\n",
        "  # train_datagen = ImageDataGenerator(rescale=1./255, validation_split=.25)\n",
        "  train_datagen = ImageDataGenerator(rescale=1./255)\n",
        "  val_datagen = ImageDataGenerator(rescale=1./255)\n",
        "  test_datagen = ImageDataGenerator(rescale=1./255)\n",
        "\n",
        "  train_generator = train_datagen.flow_from_directory(\n",
        "      '/content/train_data',\n",
        "      target_size=image_size,\n",
        "      batch_size=60,\n",
        "      class_mode='categorical'\n",
        "  )\n",
        "\n",
        "  val_generator = val_datagen.flow_from_directory(\n",
        "      '/content/val_data',\n",
        "      target_size=image_size,\n",
        "      batch_size=60,\n",
        "      class_mode='categorical'\n",
        "  )\n",
        "\n",
        "  test_generator = test_datagen.flow_from_directory(\n",
        "      '/content/test_data',\n",
        "      target_size=image_size,\n",
        "      batch_size=40,\n",
        "      class_mode='categorical'\n",
        "  )\n",
        "\n",
        "def compile_model():\n",
        "  global model\n",
        "  model = models.Sequential()\n",
        "  model.name = 'sdss_convolutional'\n",
        "  model.add(layers.Conv2D(32, (3, 3), activation='relu', input_shape=(image_size + (3,))))\n",
        "  model.add(layers.MaxPooling2D((2, 2)))\n",
        "  model.add(layers.Conv2D(64, (3, 3), activation='relu'))\n",
        "  model.add(layers.MaxPooling2D((2, 2)))\n",
        "  model.add(layers.Conv2D(128, (3, 3), activation='relu'))\n",
        "  model.add(layers.MaxPooling2D((2, 2)))\n",
        "  model.add(layers.Conv2D(128, (3, 3), activation='relu'))\n",
        "  model.add(layers.MaxPooling2D((2, 2)))\n",
        "  model.add(layers.Flatten())\n",
        "  model.add(layers.Dense(512, activation='relu'))\n",
        "  model.add(layers.Dense(5, activation='softmax'))\n",
        "  model.compile(optimizer=optimizers.RMSprop(lr=1e-4),\n",
        "                loss='categorical_crossentropy',\n",
        "                metrics=['acc'])\n",
        "\n",
        "def fit(epochs=1):\n",
        "  global model, history\n",
        "  history = model.fit_generator(\n",
        "      train_generator,\n",
        "      # steps_per_epoch=200,\n",
        "      epochs=epochs,\n",
        "      # validation_steps=50,\n",
        "      validation_data=val_generator,\n",
        "      callbacks=[fb.callbacks.FitsbookCallback()]\n",
        "  )"
      ],
      "execution_count": 0,
      "outputs": []
    },
    {
      "cell_type": "code",
      "metadata": {
        "id": "Vi22Xn1EccJF",
        "colab_type": "code",
        "outputId": "0dc9c5c9-e707-4809-b233-22ce3291a0fc",
        "colab": {
          "base_uri": "https://localhost:8080/",
          "height": 68
        }
      },
      "source": [
        "preprocess()\n",
        "compile_model()"
      ],
      "execution_count": 0,
      "outputs": [
        {
          "output_type": "stream",
          "text": [
            "Found 89336 images belonging to 5 classes.\n",
            "Found 15762 images belonging to 5 classes.\n",
            "Found 2692 images belonging to 5 classes.\n"
          ],
          "name": "stdout"
        }
      ]
    },
    {
      "cell_type": "code",
      "metadata": {
        "id": "DFSEUvOa1a9a",
        "colab_type": "code",
        "outputId": "7c90bf83-c2a8-4746-8605-8864158a3756",
        "colab": {
          "base_uri": "https://localhost:8080/",
          "height": 561
        }
      },
      "source": [
        "fit(epochs=15)"
      ],
      "execution_count": 0,
      "outputs": [
        {
          "output_type": "stream",
          "text": [
            "[Fitsbook]: Monitoring this training in real time https://natan.ninja/#/stats/11\n",
            "Epoch 1/15\n",
            "1489/1489 [==============================] - 45s 30ms/step - loss: 0.9738 - acc: 0.5682 - val_loss: 0.6857 - val_acc: 0.7330\n",
            "Epoch 2/15\n",
            "1489/1489 [==============================] - 44s 29ms/step - loss: 0.6204 - acc: 0.7455 - val_loss: 0.5233 - val_acc: 0.7918\n",
            "Epoch 3/15\n",
            "1489/1489 [==============================] - 44s 30ms/step - loss: 0.5241 - acc: 0.7905 - val_loss: 0.4739 - val_acc: 0.8171\n",
            "Epoch 4/15\n",
            "1489/1489 [==============================] - 43s 29ms/step - loss: 0.4853 - acc: 0.8081 - val_loss: 0.4771 - val_acc: 0.8065\n",
            "Epoch 5/15\n",
            "1489/1489 [==============================] - 44s 30ms/step - loss: 0.4643 - acc: 0.8162 - val_loss: 0.4637 - val_acc: 0.8165\n",
            "Epoch 6/15\n",
            "1489/1489 [==============================] - 44s 29ms/step - loss: 0.4484 - acc: 0.8236 - val_loss: 0.4313 - val_acc: 0.8284\n",
            "Epoch 7/15\n",
            "1489/1489 [==============================] - 44s 30ms/step - loss: 0.4349 - acc: 0.8288 - val_loss: 0.4239 - val_acc: 0.8315\n",
            "Epoch 8/15\n",
            "1489/1489 [==============================] - 45s 30ms/step - loss: 0.4227 - acc: 0.8343 - val_loss: 0.4265 - val_acc: 0.8319\n",
            "Epoch 9/15\n",
            "1489/1489 [==============================] - 44s 30ms/step - loss: 0.4130 - acc: 0.8371 - val_loss: 0.4326 - val_acc: 0.8296\n",
            "Epoch 10/15\n",
            "1489/1489 [==============================] - 44s 30ms/step - loss: 0.4032 - acc: 0.8412 - val_loss: 0.4179 - val_acc: 0.8369\n",
            "Epoch 11/15\n",
            "1489/1489 [==============================] - 44s 30ms/step - loss: 0.3938 - acc: 0.8461 - val_loss: 0.4184 - val_acc: 0.8401\n",
            "Epoch 12/15\n",
            "1489/1489 [==============================] - 44s 29ms/step - loss: 0.3850 - acc: 0.8491 - val_loss: 0.4402 - val_acc: 0.8259\n",
            "Epoch 13/15\n",
            "1489/1489 [==============================] - 44s 29ms/step - loss: 0.3766 - acc: 0.8533 - val_loss: 0.4175 - val_acc: 0.8373\n",
            "Epoch 14/15\n",
            "1489/1489 [==============================] - 43s 29ms/step - loss: 0.3687 - acc: 0.8559 - val_loss: 0.4029 - val_acc: 0.8420\n",
            "Epoch 15/15\n",
            "1489/1489 [==============================] - 44s 29ms/step - loss: 0.3601 - acc: 0.8601 - val_loss: 0.4131 - val_acc: 0.8426\n",
            "[Fitsbook]: Training ended successfuly. https://natan.ninja/#/stats/11\n"
          ],
          "name": "stdout"
        }
      ]
    },
    {
      "cell_type": "code",
      "metadata": {
        "id": "OlpRj3vUjf9M",
        "colab_type": "code",
        "colab": {}
      },
      "source": [
        "def compile_pretrained_model():\n",
        "  global model\n",
        "  conv_base = VGG16(\n",
        "      weights='imagenet',\n",
        "      include_top=False,\n",
        "      input_shape=image_size+(3,)\n",
        "  )\n",
        "  conv_base.trainable = True\n",
        "\n",
        "  for layer in conv_base.layers:\n",
        "    layer.trainable = 'block5' in layer.name\n",
        "    # layer.trainable = 'block5_conv1' == layer.name\n",
        "\n",
        "  model = models.Sequential()\n",
        "  model.name = 'sdss_pretrained'\n",
        "  model.add(conv_base)\n",
        "  model.add(layers.Flatten())\n",
        "  model.add(layers.Dense(2048, activation='relu'))\n",
        "  model.add(layers.Dropout(.5, seed=1225))\n",
        "  model.add(layers.Dense(1024, activation='relu'))\n",
        "  model.add(layers.Dropout(.5, seed=1225))\n",
        "  model.add(layers.Dense(512, activation='relu'))\n",
        "  model.add(layers.Dropout(.5, seed=1225))\n",
        "  model.add(layers.Dense(256, activation='relu'))\n",
        "  model.add(layers.Dropout(.5, seed=1225))\n",
        "  model.add(layers.Dense(5, activation='softmax'))\n",
        "  \n",
        "  model.compile(\n",
        "      optimizer=optimizers.RMSprop(lr=1e-5),\n",
        "      loss='categorical_crossentropy',\n",
        "      metrics=['acc']\n",
        "  )\n",
        "\n",
        "def preprocess_pretained_data():\n",
        "  global train_generator, test_generator, val_generator\n",
        "  # train_datagen = ImageDataGenerator(rescale=1./255, validation_split=.25)\n",
        "  train_datagen = ImageDataGenerator(rescale=1./255)\n",
        "  val_datagen = ImageDataGenerator(rescale=1./255)\n",
        "  test_datagen = ImageDataGenerator(rescale=1./255)\n",
        "\n",
        "  train_generator = train_datagen.flow_from_directory(\n",
        "      '/content/train_data',\n",
        "      target_size=image_size,\n",
        "      batch_size=60,\n",
        "      class_mode='categorical'\n",
        "  )\n",
        "\n",
        "  val_generator = val_datagen.flow_from_directory(\n",
        "      '/content/val_data',\n",
        "      target_size=image_size,\n",
        "      batch_size=60,\n",
        "      class_mode='categorical'\n",
        "  )\n",
        "\n",
        "  test_generator = test_datagen.flow_from_directory(\n",
        "      '/content/test_data',\n",
        "      target_size=image_size,\n",
        "      batch_size=40,\n",
        "      class_mode='categorical'\n",
        "  )\n",
        "\n",
        "def fit_pretrained_model(epochs=1):\n",
        "  global model, history\n",
        "  history = model.fit_generator(\n",
        "      train_generator,\n",
        "      epochs=epochs,\n",
        "      validation_data=val_generator,\n",
        "      callbacks=[fb.callbacks.FitsbookCallback()]\n",
        "  )"
      ],
      "execution_count": 0,
      "outputs": []
    },
    {
      "cell_type": "code",
      "metadata": {
        "id": "_7kP7v7Qr6X2",
        "colab_type": "code",
        "outputId": "590435eb-4c41-4473-9d3e-3d4416473188",
        "colab": {
          "base_uri": "https://localhost:8080/",
          "height": 802
        }
      },
      "source": [
        "preprocess_pretained_data()\n",
        "compile_pretrained_model()\n",
        "model.summary()"
      ],
      "execution_count": 0,
      "outputs": [
        {
          "output_type": "stream",
          "text": [
            "Found 89336 images belonging to 5 classes.\n",
            "Found 15762 images belonging to 5 classes.\n",
            "Found 2692 images belonging to 5 classes.\n",
            "Downloading data from https://github.com/fchollet/deep-learning-models/releases/download/v0.1/vgg16_weights_tf_dim_ordering_tf_kernels_notop.h5\n",
            "58892288/58889256 [==============================] - 2s 0us/step\n",
            "WARNING:tensorflow:From /usr/local/lib/python3.6/dist-packages/keras/backend/tensorflow_backend.py:148: The name tf.placeholder_with_default is deprecated. Please use tf.compat.v1.placeholder_with_default instead.\n",
            "\n"
          ],
          "name": "stdout"
        },
        {
          "output_type": "stream",
          "text": [
            "WARNING:tensorflow:From /usr/local/lib/python3.6/dist-packages/keras/backend/tensorflow_backend.py:148: The name tf.placeholder_with_default is deprecated. Please use tf.compat.v1.placeholder_with_default instead.\n",
            "\n"
          ],
          "name": "stderr"
        },
        {
          "output_type": "stream",
          "text": [
            "WARNING:tensorflow:From /usr/local/lib/python3.6/dist-packages/keras/backend/tensorflow_backend.py:3733: calling dropout (from tensorflow.python.ops.nn_ops) with keep_prob is deprecated and will be removed in a future version.\n",
            "Instructions for updating:\n",
            "Please use `rate` instead of `keep_prob`. Rate should be set to `rate = 1 - keep_prob`.\n"
          ],
          "name": "stdout"
        },
        {
          "output_type": "stream",
          "text": [
            "WARNING:tensorflow:From /usr/local/lib/python3.6/dist-packages/keras/backend/tensorflow_backend.py:3733: calling dropout (from tensorflow.python.ops.nn_ops) with keep_prob is deprecated and will be removed in a future version.\n",
            "Instructions for updating:\n",
            "Please use `rate` instead of `keep_prob`. Rate should be set to `rate = 1 - keep_prob`.\n"
          ],
          "name": "stderr"
        },
        {
          "output_type": "stream",
          "text": [
            "Model: \"sdss_pretrained\"\n",
            "_________________________________________________________________\n",
            "Layer (type)                 Output Shape              Param #   \n",
            "=================================================================\n",
            "vgg16 (Model)                (None, 2, 2, 512)         14714688  \n",
            "_________________________________________________________________\n",
            "flatten_4 (Flatten)          (None, 2048)              0         \n",
            "_________________________________________________________________\n",
            "dense_7 (Dense)              (None, 2048)              4196352   \n",
            "_________________________________________________________________\n",
            "dropout_1 (Dropout)          (None, 2048)              0         \n",
            "_________________________________________________________________\n",
            "dense_8 (Dense)              (None, 1024)              2098176   \n",
            "_________________________________________________________________\n",
            "dropout_2 (Dropout)          (None, 1024)              0         \n",
            "_________________________________________________________________\n",
            "dense_9 (Dense)              (None, 512)               524800    \n",
            "_________________________________________________________________\n",
            "dropout_3 (Dropout)          (None, 512)               0         \n",
            "_________________________________________________________________\n",
            "dense_10 (Dense)             (None, 256)               131328    \n",
            "_________________________________________________________________\n",
            "dropout_4 (Dropout)          (None, 256)               0         \n",
            "_________________________________________________________________\n",
            "dense_11 (Dense)             (None, 5)                 1285      \n",
            "=================================================================\n",
            "Total params: 21,666,629\n",
            "Trainable params: 14,031,365\n",
            "Non-trainable params: 7,635,264\n",
            "_________________________________________________________________\n"
          ],
          "name": "stdout"
        }
      ]
    },
    {
      "cell_type": "code",
      "metadata": {
        "id": "etuSzVlWsCPI",
        "colab_type": "code",
        "colab": {}
      },
      "source": [
        "fit_pretrained_model(epochs=15)"
      ],
      "execution_count": 0,
      "outputs": []
    },
    {
      "cell_type": "code",
      "metadata": {
        "id": "Kk3SjbEBfJz9",
        "colab_type": "code",
        "outputId": "99e1f494-4b51-4850-bda5-da9e8e743f4f",
        "colab": {
          "base_uri": "https://localhost:8080/",
          "height": 607
        }
      },
      "source": [
        "acc = history.history['acc']\n",
        "val_acc = history.history['val_acc']\n",
        "loss = history.history['loss']\n",
        "val_loss = history.history['val_loss']\n",
        "epochs = range(1, len(acc) + 1)\n",
        "\n",
        "plt.rcParams.update({'figure.titlesize': 16, 'axes.labelsize': 13, 'legend.fontsize': 13})\n",
        "plt.figure(figsize=(10, 6.5))\n",
        "plt.plot(epochs, acc, 'b', label='Training acc')\n",
        "plt.plot(epochs, val_acc, 'g', label='Validation acc')\n",
        "plt.plot(epochs, loss, 'b--', label='Training loss')\n",
        "plt.plot(epochs, val_loss, 'g--', label='Validation loss')\n",
        "plt.title('Training and validation accuracy')\n",
        "plt.xlabel('Epochs')\n",
        "plt.ylabel('Metric')\n",
        "plt.legend()\n",
        "plt.grid()\n",
        "plt.savefig('/content/pretrained_train.pdf', bbox_inches='tight', pad_inches=0.05)"
      ],
      "execution_count": 0,
      "outputs": [
        {
          "output_type": "display_data",
          "data": {
            "image/png": "[encoded data removed]",
            "text/plain": [
              "<Figure size 1000x650 with 1 Axes>"
            ]
          },
          "metadata": {
            "tags": []
          }
        }
      ]
    },
    {
      "cell_type": "code",
      "metadata": {
        "id": "mQJW2NbDoXNL",
        "colab_type": "code",
        "colab": {}
      },
      "source": [
        "model.evaluate(test_generator)"
      ],
      "execution_count": 0,
      "outputs": []
    },
    {
      "cell_type": "code",
      "metadata": {
        "id": "Co_YdrQix9jk",
        "colab_type": "code",
        "colab": {}
      },
      "source": [
        "model.metrics_names"
      ],
      "execution_count": 0,
      "outputs": []
    }
  ]
}